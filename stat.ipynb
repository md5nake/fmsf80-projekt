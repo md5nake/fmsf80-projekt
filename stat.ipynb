{
 "cells": [
  {
   "cell_type": "code",
   "execution_count": null,
   "metadata": {},
   "outputs": [],
   "source": [
    "import numpy as np\n",
    "import scipy.stats as stats\n",
    "import pandas as pd\n",
    "import matplotlib.pyplot as plt\n",
    "import seaborn as sns\n",
    "import statsmodels.api as sm\n",
    "import statsmodels.formula.api as smf\n",
    "from statsmodels.stats import moment_helpers\n",
    "import math as m"
   ]
  },
  {
   "cell_type": "code",
   "execution_count": null,
   "metadata": {},
   "outputs": [
    {
     "name": "stdout",
     "output_type": "stream",
     "text": [
      "2017\n"
     ]
    }
   ],
   "source": [
    "Utrecht = pd.read_csv('Utrecht.csv', encoding='utf-8')\n",
    "#shufflar vår data så att vi inte får en bias när vi tränar & testar (Ex det är möjligt att stora boytor är längst ner i vår lista)\n",
    "Utrecht = Utrecht.sample(frac=1,random_state=20241125)\n",
    "print( max(Utrecht['ar']) )"
   ]
  },
  {
   "cell_type": "code",
   "execution_count": null,
   "metadata": {},
   "outputs": [
    {
     "data": {
      "text/html": [
       "<table class=\"simpletable\">\n",
       "<caption>OLS Regression Results</caption>\n",
       "<tr>\n",
       "  <th>Dep. Variable:</th>          <td>pris</td>       <th>  R-squared:         </th> <td>   0.966</td>\n",
       "</tr>\n",
       "<tr>\n",
       "  <th>Model:</th>                   <td>OLS</td>       <th>  Adj. R-squared:    </th> <td>   0.965</td>\n",
       "</tr>\n",
       "<tr>\n",
       "  <th>Method:</th>             <td>Least Squares</td>  <th>  F-statistic:       </th> <td>   904.4</td>\n",
       "</tr>\n",
       "<tr>\n",
       "  <th>Date:</th>             <td>Fri, 29 Nov 2024</td> <th>  Prob (F-statistic):</th> <td>3.20e-70</td>\n",
       "</tr>\n",
       "<tr>\n",
       "  <th>Time:</th>                 <td>10:51:15</td>     <th>  Log-Likelihood:    </th> <td> -495.92</td>\n",
       "</tr>\n",
       "<tr>\n",
       "  <th>No. Observations:</th>      <td>   100</td>      <th>  AIC:               </th> <td>   999.8</td>\n",
       "</tr>\n",
       "<tr>\n",
       "  <th>Df Residuals:</th>          <td>    96</td>      <th>  BIC:               </th> <td>   1010.</td>\n",
       "</tr>\n",
       "<tr>\n",
       "  <th>Df Model:</th>              <td>     3</td>      <th>                     </th>     <td> </td>   \n",
       "</tr>\n",
       "<tr>\n",
       "  <th>Covariance Type:</th>      <td>nonrobust</td>    <th>                     </th>     <td> </td>   \n",
       "</tr>\n",
       "</table>\n",
       "<table class=\"simpletable\">\n",
       "<tr>\n",
       "      <td></td>         <th>coef</th>     <th>std err</th>      <th>t</th>      <th>P>|t|</th>  <th>[0.025</th>    <th>0.975]</th>  \n",
       "</tr>\n",
       "<tr>\n",
       "  <th>Intercept</th> <td> 3264.1489</td> <td>  281.013</td> <td>   11.616</td> <td> 0.000</td> <td> 2706.343</td> <td> 3821.955</td>\n",
       "</tr>\n",
       "<tr>\n",
       "  <th>bo_yta</th>    <td>    4.9645</td> <td>    0.116</td> <td>   42.791</td> <td> 0.000</td> <td>    4.734</td> <td>    5.195</td>\n",
       "</tr>\n",
       "<tr>\n",
       "  <th>tomt</th>      <td>    0.6389</td> <td>    0.132</td> <td>    4.848</td> <td> 0.000</td> <td>    0.377</td> <td>    0.901</td>\n",
       "</tr>\n",
       "<tr>\n",
       "  <th>ar</th>        <td>   -1.6452</td> <td>    0.146</td> <td>  -11.289</td> <td> 0.000</td> <td>   -1.934</td> <td>   -1.356</td>\n",
       "</tr>\n",
       "</table>\n",
       "<table class=\"simpletable\">\n",
       "<tr>\n",
       "  <th>Omnibus:</th>       <td> 0.139</td> <th>  Durbin-Watson:     </th> <td>   2.232</td>\n",
       "</tr>\n",
       "<tr>\n",
       "  <th>Prob(Omnibus):</th> <td> 0.933</td> <th>  Jarque-Bera (JB):  </th> <td>   0.185</td>\n",
       "</tr>\n",
       "<tr>\n",
       "  <th>Skew:</th>          <td>-0.085</td> <th>  Prob(JB):          </th> <td>   0.912</td>\n",
       "</tr>\n",
       "<tr>\n",
       "  <th>Kurtosis:</th>      <td> 2.877</td> <th>  Cond. No.          </th> <td>1.58e+05</td>\n",
       "</tr>\n",
       "</table><br/><br/>Notes:<br/>[1] Standard Errors assume that the covariance matrix of the errors is correctly specified.<br/>[2] The condition number is large, 1.58e+05. This might indicate that there are<br/>strong multicollinearity or other numerical problems."
      ],
      "text/latex": [
       "\\begin{center}\n",
       "\\begin{tabular}{lclc}\n",
       "\\toprule\n",
       "\\textbf{Dep. Variable:}    &       pris       & \\textbf{  R-squared:         } &     0.966   \\\\\n",
       "\\textbf{Model:}            &       OLS        & \\textbf{  Adj. R-squared:    } &     0.965   \\\\\n",
       "\\textbf{Method:}           &  Least Squares   & \\textbf{  F-statistic:       } &     904.4   \\\\\n",
       "\\textbf{Date:}             & Fri, 29 Nov 2024 & \\textbf{  Prob (F-statistic):} &  3.20e-70   \\\\\n",
       "\\textbf{Time:}             &     10:51:15     & \\textbf{  Log-Likelihood:    } &   -495.92   \\\\\n",
       "\\textbf{No. Observations:} &         100      & \\textbf{  AIC:               } &     999.8   \\\\\n",
       "\\textbf{Df Residuals:}     &          96      & \\textbf{  BIC:               } &     1010.   \\\\\n",
       "\\textbf{Df Model:}         &           3      & \\textbf{                     } &             \\\\\n",
       "\\textbf{Covariance Type:}  &    nonrobust     & \\textbf{                     } &             \\\\\n",
       "\\bottomrule\n",
       "\\end{tabular}\n",
       "\\begin{tabular}{lcccccc}\n",
       "                   & \\textbf{coef} & \\textbf{std err} & \\textbf{t} & \\textbf{P$> |$t$|$} & \\textbf{[0.025} & \\textbf{0.975]}  \\\\\n",
       "\\midrule\n",
       "\\textbf{Intercept} &    3264.1489  &      281.013     &    11.616  &         0.000        &     2706.343    &     3821.955     \\\\\n",
       "\\textbf{bo\\_yta}   &       4.9645  &        0.116     &    42.791  &         0.000        &        4.734    &        5.195     \\\\\n",
       "\\textbf{tomt}      &       0.6389  &        0.132     &     4.848  &         0.000        &        0.377    &        0.901     \\\\\n",
       "\\textbf{ar}        &      -1.6452  &        0.146     &   -11.289  &         0.000        &       -1.934    &       -1.356     \\\\\n",
       "\\bottomrule\n",
       "\\end{tabular}\n",
       "\\begin{tabular}{lclc}\n",
       "\\textbf{Omnibus:}       &  0.139 & \\textbf{  Durbin-Watson:     } &    2.232  \\\\\n",
       "\\textbf{Prob(Omnibus):} &  0.933 & \\textbf{  Jarque-Bera (JB):  } &    0.185  \\\\\n",
       "\\textbf{Skew:}          & -0.085 & \\textbf{  Prob(JB):          } &    0.912  \\\\\n",
       "\\textbf{Kurtosis:}      &  2.877 & \\textbf{  Cond. No.          } & 1.58e+05  \\\\\n",
       "\\bottomrule\n",
       "\\end{tabular}\n",
       "%\\caption{OLS Regression Results}\n",
       "\\end{center}\n",
       "\n",
       "Notes: \\newline\n",
       " [1] Standard Errors assume that the covariance matrix of the errors is correctly specified. \\newline\n",
       " [2] The condition number is large, 1.58e+05. This might indicate that there are \\newline\n",
       " strong multicollinearity or other numerical problems."
      ],
      "text/plain": [
       "<class 'statsmodels.iolib.summary.Summary'>\n",
       "\"\"\"\n",
       "                            OLS Regression Results                            \n",
       "==============================================================================\n",
       "Dep. Variable:                   pris   R-squared:                       0.966\n",
       "Model:                            OLS   Adj. R-squared:                  0.965\n",
       "Method:                 Least Squares   F-statistic:                     904.4\n",
       "Date:                Fri, 29 Nov 2024   Prob (F-statistic):           3.20e-70\n",
       "Time:                        10:51:15   Log-Likelihood:                -495.92\n",
       "No. Observations:                 100   AIC:                             999.8\n",
       "Df Residuals:                      96   BIC:                             1010.\n",
       "Df Model:                           3                                         \n",
       "Covariance Type:            nonrobust                                         \n",
       "==============================================================================\n",
       "                 coef    std err          t      P>|t|      [0.025      0.975]\n",
       "------------------------------------------------------------------------------\n",
       "Intercept   3264.1489    281.013     11.616      0.000    2706.343    3821.955\n",
       "bo_yta         4.9645      0.116     42.791      0.000       4.734       5.195\n",
       "tomt           0.6389      0.132      4.848      0.000       0.377       0.901\n",
       "ar            -1.6452      0.146    -11.289      0.000      -1.934      -1.356\n",
       "==============================================================================\n",
       "Omnibus:                        0.139   Durbin-Watson:                   2.232\n",
       "Prob(Omnibus):                  0.933   Jarque-Bera (JB):                0.185\n",
       "Skew:                          -0.085   Prob(JB):                        0.912\n",
       "Kurtosis:                       2.877   Cond. No.                     1.58e+05\n",
       "==============================================================================\n",
       "\n",
       "Notes:\n",
       "[1] Standard Errors assume that the covariance matrix of the errors is correctly specified.\n",
       "[2] The condition number is large, 1.58e+05. This might indicate that there are\n",
       "strong multicollinearity or other numerical problems.\n",
       "\"\"\""
      ]
     },
     "execution_count": 15,
     "metadata": {},
     "output_type": "execute_result"
    },
    {
     "data": {
      "image/png": "[encoded data removed]",
      "text/plain": [
       "<Figure size 500x250 with 2 Axes>"
      ]
     },
     "metadata": {},
     "output_type": "display_data"
    }
   ],
   "source": [
    "tester = smf.ols(formula='pris~bo_yta+tomt+ar',data=Utrecht)\n",
    "Utrecht['res'] = tester.fit().resid\n",
    "sns.pairplot(Utrecht,x_vars={'ar','balkong'},y_vars='pris')\n",
    "tester.fit().summary()"
   ]
  },
  {
   "cell_type": "markdown",
   "metadata": {},
   "source": [
    "Adj. R-squared blir sämre om vi tränar med 90 datapunkter jämfört med 80\n",
    "Vidare förbättrar inte balkong prediktionen, dessutom är 0 inom balkongkoefficientens konfidensintervall"
   ]
  },
  {
   "cell_type": "code",
   "execution_count": null,
   "metadata": {},
   "outputs": [
    {
     "data": {
      "text/html": [
       "<table class=\"simpletable\">\n",
       "<caption>OLS Regression Results</caption>\n",
       "<tr>\n",
       "  <th>Dep. Variable:</th>          <td>pris</td>       <th>  R-squared:         </th> <td>   0.975</td>\n",
       "</tr>\n",
       "<tr>\n",
       "  <th>Model:</th>                   <td>OLS</td>       <th>  Adj. R-squared:    </th> <td>   0.974</td>\n",
       "</tr>\n",
       "<tr>\n",
       "  <th>Method:</th>             <td>Least Squares</td>  <th>  F-statistic:       </th> <td>   734.4</td>\n",
       "</tr>\n",
       "<tr>\n",
       "  <th>Date:</th>             <td>Fri, 29 Nov 2024</td> <th>  Prob (F-statistic):</th> <td>2.69e-59</td>\n",
       "</tr>\n",
       "<tr>\n",
       "  <th>Time:</th>                 <td>10:37:10</td>     <th>  Log-Likelihood:    </th> <td> -384.21</td>\n",
       "</tr>\n",
       "<tr>\n",
       "  <th>No. Observations:</th>      <td>    80</td>      <th>  AIC:               </th> <td>   778.4</td>\n",
       "</tr>\n",
       "<tr>\n",
       "  <th>Df Residuals:</th>          <td>    75</td>      <th>  BIC:               </th> <td>   790.3</td>\n",
       "</tr>\n",
       "<tr>\n",
       "  <th>Df Model:</th>              <td>     4</td>      <th>                     </th>     <td> </td>   \n",
       "</tr>\n",
       "<tr>\n",
       "  <th>Covariance Type:</th>      <td>nonrobust</td>    <th>                     </th>     <td> </td>   \n",
       "</tr>\n",
       "</table>\n",
       "<table class=\"simpletable\">\n",
       "<tr>\n",
       "       <td></td>         <th>coef</th>     <th>std err</th>      <th>t</th>      <th>P>|t|</th>  <th>[0.025</th>    <th>0.975]</th>  \n",
       "</tr>\n",
       "<tr>\n",
       "  <th>Intercept</th>  <td>-1.194e+05</td> <td> 2.76e+04</td> <td>   -4.331</td> <td> 0.000</td> <td>-1.74e+05</td> <td>-6.45e+04</td>\n",
       "</tr>\n",
       "<tr>\n",
       "  <th>bo_yta</th>     <td>    4.7804</td> <td>    0.121</td> <td>   39.485</td> <td> 0.000</td> <td>    4.539</td> <td>    5.022</td>\n",
       "</tr>\n",
       "<tr>\n",
       "  <th>ar</th>         <td>  122.7772</td> <td>   27.956</td> <td>    4.392</td> <td> 0.000</td> <td>   67.085</td> <td>  178.469</td>\n",
       "</tr>\n",
       "<tr>\n",
       "  <th>I(ar ** 2)</th> <td>   -0.0315</td> <td>    0.007</td> <td>   -4.452</td> <td> 0.000</td> <td>   -0.046</td> <td>   -0.017</td>\n",
       "</tr>\n",
       "<tr>\n",
       "  <th>tomt</th>       <td>    0.4928</td> <td>    0.128</td> <td>    3.859</td> <td> 0.000</td> <td>    0.238</td> <td>    0.747</td>\n",
       "</tr>\n",
       "</table>\n",
       "<table class=\"simpletable\">\n",
       "<tr>\n",
       "  <th>Omnibus:</th>       <td> 0.942</td> <th>  Durbin-Watson:     </th> <td>   2.058</td>\n",
       "</tr>\n",
       "<tr>\n",
       "  <th>Prob(Omnibus):</th> <td> 0.624</td> <th>  Jarque-Bera (JB):  </th> <td>   0.411</td>\n",
       "</tr>\n",
       "<tr>\n",
       "  <th>Skew:</th>          <td>-0.006</td> <th>  Prob(JB):          </th> <td>   0.814</td>\n",
       "</tr>\n",
       "<tr>\n",
       "  <th>Kurtosis:</th>      <td> 3.351</td> <th>  Cond. No.          </th> <td>3.14e+10</td>\n",
       "</tr>\n",
       "</table><br/><br/>Notes:<br/>[1] Standard Errors assume that the covariance matrix of the errors is correctly specified.<br/>[2] The condition number is large, 3.14e+10. This might indicate that there are<br/>strong multicollinearity or other numerical problems."
      ],
      "text/latex": [
       "\\begin{center}\n",
       "\\begin{tabular}{lclc}\n",
       "\\toprule\n",
       "\\textbf{Dep. Variable:}    &       pris       & \\textbf{  R-squared:         } &     0.975   \\\\\n",
       "\\textbf{Model:}            &       OLS        & \\textbf{  Adj. R-squared:    } &     0.974   \\\\\n",
       "\\textbf{Method:}           &  Least Squares   & \\textbf{  F-statistic:       } &     734.4   \\\\\n",
       "\\textbf{Date:}             & Fri, 29 Nov 2024 & \\textbf{  Prob (F-statistic):} &  2.69e-59   \\\\\n",
       "\\textbf{Time:}             &     10:37:10     & \\textbf{  Log-Likelihood:    } &   -384.21   \\\\\n",
       "\\textbf{No. Observations:} &          80      & \\textbf{  AIC:               } &     778.4   \\\\\n",
       "\\textbf{Df Residuals:}     &          75      & \\textbf{  BIC:               } &     790.3   \\\\\n",
       "\\textbf{Df Model:}         &           4      & \\textbf{                     } &             \\\\\n",
       "\\textbf{Covariance Type:}  &    nonrobust     & \\textbf{                     } &             \\\\\n",
       "\\bottomrule\n",
       "\\end{tabular}\n",
       "\\begin{tabular}{lcccccc}\n",
       "                    & \\textbf{coef} & \\textbf{std err} & \\textbf{t} & \\textbf{P$> |$t$|$} & \\textbf{[0.025} & \\textbf{0.975]}  \\\\\n",
       "\\midrule\n",
       "\\textbf{Intercept}  &   -1.194e+05  &     2.76e+04     &    -4.331  &         0.000        &    -1.74e+05    &    -6.45e+04     \\\\\n",
       "\\textbf{bo\\_yta}    &       4.7804  &        0.121     &    39.485  &         0.000        &        4.539    &        5.022     \\\\\n",
       "\\textbf{ar}         &     122.7772  &       27.956     &     4.392  &         0.000        &       67.085    &      178.469     \\\\\n",
       "\\textbf{I(ar ** 2)} &      -0.0315  &        0.007     &    -4.452  &         0.000        &       -0.046    &       -0.017     \\\\\n",
       "\\textbf{tomt}       &       0.4928  &        0.128     &     3.859  &         0.000        &        0.238    &        0.747     \\\\\n",
       "\\bottomrule\n",
       "\\end{tabular}\n",
       "\\begin{tabular}{lclc}\n",
       "\\textbf{Omnibus:}       &  0.942 & \\textbf{  Durbin-Watson:     } &    2.058  \\\\\n",
       "\\textbf{Prob(Omnibus):} &  0.624 & \\textbf{  Jarque-Bera (JB):  } &    0.411  \\\\\n",
       "\\textbf{Skew:}          & -0.006 & \\textbf{  Prob(JB):          } &    0.814  \\\\\n",
       "\\textbf{Kurtosis:}      &  3.351 & \\textbf{  Cond. No.          } & 3.14e+10  \\\\\n",
       "\\bottomrule\n",
       "\\end{tabular}\n",
       "%\\caption{OLS Regression Results}\n",
       "\\end{center}\n",
       "\n",
       "Notes: \\newline\n",
       " [1] Standard Errors assume that the covariance matrix of the errors is correctly specified. \\newline\n",
       " [2] The condition number is large, 3.14e+10. This might indicate that there are \\newline\n",
       " strong multicollinearity or other numerical problems."
      ],
      "text/plain": [
       "<class 'statsmodels.iolib.summary.Summary'>\n",
       "\"\"\"\n",
       "                            OLS Regression Results                            \n",
       "==============================================================================\n",
       "Dep. Variable:                   pris   R-squared:                       0.975\n",
       "Model:                            OLS   Adj. R-squared:                  0.974\n",
       "Method:                 Least Squares   F-statistic:                     734.4\n",
       "Date:                Fri, 29 Nov 2024   Prob (F-statistic):           2.69e-59\n",
       "Time:                        10:37:10   Log-Likelihood:                -384.21\n",
       "No. Observations:                  80   AIC:                             778.4\n",
       "Df Residuals:                      75   BIC:                             790.3\n",
       "Df Model:                           4                                         \n",
       "Covariance Type:            nonrobust                                         \n",
       "==============================================================================\n",
       "                 coef    std err          t      P>|t|      [0.025      0.975]\n",
       "------------------------------------------------------------------------------\n",
       "Intercept  -1.194e+05   2.76e+04     -4.331      0.000   -1.74e+05   -6.45e+04\n",
       "bo_yta         4.7804      0.121     39.485      0.000       4.539       5.022\n",
       "ar           122.7772     27.956      4.392      0.000      67.085     178.469\n",
       "I(ar ** 2)    -0.0315      0.007     -4.452      0.000      -0.046      -0.017\n",
       "tomt           0.4928      0.128      3.859      0.000       0.238       0.747\n",
       "==============================================================================\n",
       "Omnibus:                        0.942   Durbin-Watson:                   2.058\n",
       "Prob(Omnibus):                  0.624   Jarque-Bera (JB):                0.411\n",
       "Skew:                          -0.006   Prob(JB):                        0.814\n",
       "Kurtosis:                       3.351   Cond. No.                     3.14e+10\n",
       "==============================================================================\n",
       "\n",
       "Notes:\n",
       "[1] Standard Errors assume that the covariance matrix of the errors is correctly specified.\n",
       "[2] The condition number is large, 3.14e+10. This might indicate that there are\n",
       "strong multicollinearity or other numerical problems.\n",
       "\"\"\""
      ]
     },
     "execution_count": 5,
     "metadata": {},
     "output_type": "execute_result"
    }
   ],
   "source": [
    "nbr_train_data = 80\n",
    "#Enkel regression av pris\n",
    "res = smf.ols(formula='pris~bo_yta+ar+I(ar**2)+tomt',data=Utrecht[:nbr_train_data])\n",
    "Utrecht['res'] = res.fit().resid\n",
    "model =res.fit()\n",
    "Utrecht['res'] = Utrecht['pris'] - model.predict(Utrecht)\n",
    "fit=res.fit()\n",
    "fit.summary()\n",
    "\n"
   ]
  },
  {
   "cell_type": "code",
   "execution_count": null,
   "metadata": {},
   "outputs": [
    {
     "data": {
      "text/plain": [
       "<seaborn.axisgrid.PairGrid at 0x1c27846b590>"
      ]
     },
     "execution_count": 6,
     "metadata": {},
     "output_type": "execute_result"
    },
    {
     "data": {
      "image/png": "[encoded data removed]",
      "text/plain": [
       "<Figure size 750x250 with 3 Axes>"
      ]
     },
     "metadata": {},
     "output_type": "display_data"
    }
   ],
   "source": [
    "#Visar residualer för vår modell med testdata\n",
    "sns.pairplot(Utrecht[nbr_train_data:],x_vars={'bo_yta','tomt','ar'},y_vars='res')"
   ]
  },
  {
   "cell_type": "markdown",
   "metadata": {},
   "source": []
  },
  {
   "cell_type": "code",
   "execution_count": null,
   "metadata": {},
   "outputs": [
    {
     "data": {
      "text/plain": [
       "((array([-1.8241636 , -1.38768012, -1.11829229, -0.91222575, -0.73908135,\n",
       "         -0.5857176 , -0.44506467, -0.31273668, -0.18568928, -0.06158146,\n",
       "          0.06158146,  0.18568928,  0.31273668,  0.44506467,  0.5857176 ,\n",
       "          0.73908135,  0.91222575,  1.11829229,  1.38768012,  1.8241636 ]),\n",
       "  array([ 469.52330315,  571.60749844,  593.11407801,  625.70508201,\n",
       "          645.3387142 ,  687.70817525,  693.84470449,  705.50266409,\n",
       "          731.64281548,  754.79418017,  800.23880895,  808.81200161,\n",
       "          827.57773901,  830.62005204,  935.0117859 ,  954.51173243,\n",
       "         1000.7849367 , 1040.88895432, 1087.27265413, 1230.40335005])),\n",
       " (200.7132880233659, 799.7451615211806, 0.9869578883298469))"
      ]
     },
     "execution_count": 7,
     "metadata": {},
     "output_type": "execute_result"
    },
    {
     "data": {
      "image/png": "[encoded data removed]",
      "text/plain": [
       "<Figure size 640x480 with 1 Axes>"
      ]
     },
     "metadata": {},
     "output_type": "display_data"
    }
   ],
   "source": [
    "#residualerna verkar väldigt normalfördelade\n",
    "pred_res = fit.predict(Utrecht[nbr_train_data:])\n",
    "stats.probplot(x=pred_res,fit = True,plot=plt)"
   ]
  },
  {
   "cell_type": "markdown",
   "metadata": {},
   "source": []
  },
  {
   "cell_type": "code",
   "execution_count": null,
   "metadata": {},
   "outputs": [
    {
     "data": {
      "text/html": [
       "<div>\n",
       "<style scoped>\n",
       "    .dataframe tbody tr th:only-of-type {\n",
       "        vertical-align: middle;\n",
       "    }\n",
       "\n",
       "    .dataframe tbody tr th {\n",
       "        vertical-align: top;\n",
       "    }\n",
       "\n",
       "    .dataframe thead th {\n",
       "        text-align: right;\n",
       "    }\n",
       "</style>\n",
       "<table border=\"1\" class=\"dataframe\">\n",
       "  <thead>\n",
       "    <tr style=\"text-align: right;\">\n",
       "      <th></th>\n",
       "      <th>mean</th>\n",
       "      <th>mean_se</th>\n",
       "      <th>mean_ci_lower</th>\n",
       "      <th>mean_ci_upper</th>\n",
       "      <th>obs_ci_lower</th>\n",
       "      <th>obs_ci_upper</th>\n",
       "    </tr>\n",
       "  </thead>\n",
       "  <tbody>\n",
       "    <tr>\n",
       "      <th>0</th>\n",
       "      <td>839.394908</td>\n",
       "      <td>16.489914</td>\n",
       "      <td>806.545315</td>\n",
       "      <td>872.244501</td>\n",
       "      <td>770.416433</td>\n",
       "      <td>908.373383</td>\n",
       "    </tr>\n",
       "  </tbody>\n",
       "</table>\n",
       "</div>"
      ],
      "text/plain": [
       "         mean    mean_se  mean_ci_lower  mean_ci_upper  obs_ci_lower  \\\n",
       "0  839.394908  16.489914     806.545315     872.244501    770.416433   \n",
       "\n",
       "   obs_ci_upper  \n",
       "0    908.373383  "
      ]
     },
     "execution_count": 24,
     "metadata": {},
     "output_type": "execute_result"
    }
   ],
   "source": [
    "target = pd.DataFrame({\"bo_yta\": [175], \"ar\": [2022], \"tomt\": [150]})\n",
    "fit.get_prediction(target).summary_frame(alpha=0.05)"
   ]
  },
  {
   "cell_type": "markdown",
   "metadata": {},
   "source": [
    "Löser 3.3 uppgift 2 genom att ge oss värdet av vår t-funktion (ta) som vårt nedåtbegränsade konfidensintervall har."
   ]
  },
  {
   "cell_type": "code",
   "execution_count": null,
   "metadata": {},
   "outputs": [
    {
     "name": "stdout",
     "output_type": "stream",
     "text": [
      "               Intercept       bo_yta             ar  I(ar ** 2)         tomt\n",
      "Intercept   7.604716e+08  1356.348554 -770934.953014  195.266200  1174.275499\n",
      "bo_yta      1.356349e+03     0.014658      -1.370170    0.000346    -0.003418\n",
      "ar         -7.709350e+05    -1.370170     781.560495   -0.197962    -1.190362\n",
      "I(ar ** 2)  1.952662e+02     0.000346      -0.197962    0.000050     0.000301\n",
      "tomt        1.174275e+03    -0.003418      -1.190362    0.000301     0.016307\n",
      "0    839.394908\n",
      "dtype: float64\n",
      "216.2082372989292\n",
      "0    0.16468\n",
      "dtype: float64\n"
     ]
    }
   ],
   "source": [
    "\n",
    "X_inv = np.array(fit.cov_params())\n",
    "print(fit.cov_params())\n",
    "x0 = np.array([1,175,2022,2022**2,150])\n",
    "sigma = m.sqrt(fit.mse_resid+np.matmul(np.matmul(x0.T,fit.cov_params()),x0))\n",
    "\n",
    "\n",
    "print(fit.predict(target))\n",
    "print(sigma)\n",
    "ta = (875-fit.predict(target))/sigma\n",
    "print(ta)\n",
    "#alpha = 0.1536 get oss rätt t-funktion"
   ]
  },
  {
   "cell_type": "code",
   "execution_count": null,
   "metadata": {},
   "outputs": [
    {
     "name": "stdout",
     "output_type": "stream",
     "text": [
      "[[ 1.          0.40625387 -0.99998836  0.99995131  0.33345477]\n",
      " [ 0.40625387  1.         -0.40481883  0.4030451  -0.22105611]\n",
      " [-0.99998836 -0.40481883  1.         -0.99998721 -0.33343122]\n",
      " [ 0.99995131  0.4030451  -0.99998721  1.          0.33315442]\n",
      " [ 0.33345477 -0.22105611 -0.33343122  0.33315442  1.        ]]\n"
     ]
    }
   ],
   "source": [
    "print(moment_helpers.cov2corr(fit.cov_params()))"
   ]
  }
 ],
 "metadata": {
  "kernelspec": {
   "display_name": "Python 3",
   "language": "python",
   "name": "python3"
  },
  "language_info": {
   "codemirror_mode": {
    "name": "ipython",
    "version": 3
   },
   "file_extension": ".py",
   "mimetype": "text/x-python",
   "name": "python",
   "nbconvert_exporter": "python",
   "pygments_lexer": "ipython3",
   "version": "3.11.9"
  }
 },
 "nbformat": 4,
 "nbformat_minor": 2
}
