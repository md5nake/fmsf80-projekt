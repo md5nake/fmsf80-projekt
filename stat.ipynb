{
 "cells": [
  {
   "cell_type": "code",
   "execution_count": 2,
   "metadata": {},
   "outputs": [],
   "source": [
    "import numpy as np\n",
    "import scipy.stats as stats\n",
    "import pandas as pd\n",
    "import matplotlib.pyplot as plt\n",
    "import seaborn as sns\n",
    "import statsmodels.api as sm\n",
    "import statsmodels.formula.api as smf\n",
    "import math as m"
   ]
  },
  {
   "cell_type": "code",
   "execution_count": 42,
   "metadata": {},
   "outputs": [
    {
     "name": "stdout",
     "output_type": "stream",
     "text": [
      "2017\n"
     ]
    }
   ],
   "source": [
    "Utrecht = pd.read_csv('Utrecht.csv', encoding='utf-8')\n",
    "#shufflar vår data så att vi inte får en bias när vi tränar & testar (Ex det är möjligt att stora boytor är längst ner i vår lista)\n",
    "Utrecht = Utrecht.sample(frac=1,random_state=20241125)\n",
    "print( max(Utrecht['ar']) )"
   ]
  },
  {
   "cell_type": "code",
   "execution_count": 78,
   "metadata": {},
   "outputs": [
    {
     "data": {
      "text/html": [
       "<table class=\"simpletable\">\n",
       "<caption>OLS Regression Results</caption>\n",
       "<tr>\n",
       "  <th>Dep. Variable:</th>          <td>pris</td>       <th>  R-squared:         </th> <td>   0.920</td>\n",
       "</tr>\n",
       "<tr>\n",
       "  <th>Model:</th>                   <td>OLS</td>       <th>  Adj. R-squared:    </th> <td>   0.919</td>\n",
       "</tr>\n",
       "<tr>\n",
       "  <th>Method:</th>             <td>Least Squares</td>  <th>  F-statistic:       </th> <td>   561.3</td>\n",
       "</tr>\n",
       "<tr>\n",
       "  <th>Date:</th>             <td>Wed, 27 Nov 2024</td> <th>  Prob (F-statistic):</th> <td>4.76e-54</td>\n",
       "</tr>\n",
       "<tr>\n",
       "  <th>Time:</th>                 <td>11:26:26</td>     <th>  Log-Likelihood:    </th> <td> -538.16</td>\n",
       "</tr>\n",
       "<tr>\n",
       "  <th>No. Observations:</th>      <td>   100</td>      <th>  AIC:               </th> <td>   1082.</td>\n",
       "</tr>\n",
       "<tr>\n",
       "  <th>Df Residuals:</th>          <td>    97</td>      <th>  BIC:               </th> <td>   1090.</td>\n",
       "</tr>\n",
       "<tr>\n",
       "  <th>Df Model:</th>              <td>     2</td>      <th>                     </th>     <td> </td>   \n",
       "</tr>\n",
       "<tr>\n",
       "  <th>Covariance Type:</th>      <td>nonrobust</td>    <th>                     </th>     <td> </td>   \n",
       "</tr>\n",
       "</table>\n",
       "<table class=\"simpletable\">\n",
       "<tr>\n",
       "      <td></td>         <th>coef</th>     <th>std err</th>      <th>t</th>      <th>P>|t|</th>  <th>[0.025</th>    <th>0.975]</th>  \n",
       "</tr>\n",
       "<tr>\n",
       "  <th>Intercept</th> <td>   96.3719</td> <td>   22.870</td> <td>    4.214</td> <td> 0.000</td> <td>   50.981</td> <td>  141.762</td>\n",
       "</tr>\n",
       "<tr>\n",
       "  <th>bo_yta</th>    <td>    4.5963</td> <td>    0.169</td> <td>   27.200</td> <td> 0.000</td> <td>    4.261</td> <td>    4.932</td>\n",
       "</tr>\n",
       "<tr>\n",
       "  <th>tomt</th>      <td>    0.4482</td> <td>    0.198</td> <td>    2.260</td> <td> 0.026</td> <td>    0.055</td> <td>    0.842</td>\n",
       "</tr>\n",
       "</table>\n",
       "<table class=\"simpletable\">\n",
       "<tr>\n",
       "  <th>Omnibus:</th>       <td> 2.195</td> <th>  Durbin-Watson:     </th> <td>   1.954</td>\n",
       "</tr>\n",
       "<tr>\n",
       "  <th>Prob(Omnibus):</th> <td> 0.334</td> <th>  Jarque-Bera (JB):  </th> <td>   2.138</td>\n",
       "</tr>\n",
       "<tr>\n",
       "  <th>Skew:</th>          <td>-0.289</td> <th>  Prob(JB):          </th> <td>   0.343</td>\n",
       "</tr>\n",
       "<tr>\n",
       "  <th>Kurtosis:</th>      <td> 2.577</td> <th>  Cond. No.          </th> <td>    786.</td>\n",
       "</tr>\n",
       "</table><br/><br/>Notes:<br/>[1] Standard Errors assume that the covariance matrix of the errors is correctly specified."
      ],
      "text/latex": [
       "\\begin{center}\n",
       "\\begin{tabular}{lclc}\n",
       "\\toprule\n",
       "\\textbf{Dep. Variable:}    &       pris       & \\textbf{  R-squared:         } &     0.920   \\\\\n",
       "\\textbf{Model:}            &       OLS        & \\textbf{  Adj. R-squared:    } &     0.919   \\\\\n",
       "\\textbf{Method:}           &  Least Squares   & \\textbf{  F-statistic:       } &     561.3   \\\\\n",
       "\\textbf{Date:}             & Wed, 27 Nov 2024 & \\textbf{  Prob (F-statistic):} &  4.76e-54   \\\\\n",
       "\\textbf{Time:}             &     11:26:26     & \\textbf{  Log-Likelihood:    } &   -538.16   \\\\\n",
       "\\textbf{No. Observations:} &         100      & \\textbf{  AIC:               } &     1082.   \\\\\n",
       "\\textbf{Df Residuals:}     &          97      & \\textbf{  BIC:               } &     1090.   \\\\\n",
       "\\textbf{Df Model:}         &           2      & \\textbf{                     } &             \\\\\n",
       "\\textbf{Covariance Type:}  &    nonrobust     & \\textbf{                     } &             \\\\\n",
       "\\bottomrule\n",
       "\\end{tabular}\n",
       "\\begin{tabular}{lcccccc}\n",
       "                   & \\textbf{coef} & \\textbf{std err} & \\textbf{t} & \\textbf{P$> |$t$|$} & \\textbf{[0.025} & \\textbf{0.975]}  \\\\\n",
       "\\midrule\n",
       "\\textbf{Intercept} &      96.3719  &       22.870     &     4.214  &         0.000        &       50.981    &      141.762     \\\\\n",
       "\\textbf{bo\\_yta}   &       4.5963  &        0.169     &    27.200  &         0.000        &        4.261    &        4.932     \\\\\n",
       "\\textbf{tomt}      &       0.4482  &        0.198     &     2.260  &         0.026        &        0.055    &        0.842     \\\\\n",
       "\\bottomrule\n",
       "\\end{tabular}\n",
       "\\begin{tabular}{lclc}\n",
       "\\textbf{Omnibus:}       &  2.195 & \\textbf{  Durbin-Watson:     } &    1.954  \\\\\n",
       "\\textbf{Prob(Omnibus):} &  0.334 & \\textbf{  Jarque-Bera (JB):  } &    2.138  \\\\\n",
       "\\textbf{Skew:}          & -0.289 & \\textbf{  Prob(JB):          } &    0.343  \\\\\n",
       "\\textbf{Kurtosis:}      &  2.577 & \\textbf{  Cond. No.          } &     786.  \\\\\n",
       "\\bottomrule\n",
       "\\end{tabular}\n",
       "%\\caption{OLS Regression Results}\n",
       "\\end{center}\n",
       "\n",
       "Notes: \\newline\n",
       " [1] Standard Errors assume that the covariance matrix of the errors is correctly specified."
      ],
      "text/plain": [
       "<class 'statsmodels.iolib.summary.Summary'>\n",
       "\"\"\"\n",
       "                            OLS Regression Results                            \n",
       "==============================================================================\n",
       "Dep. Variable:                   pris   R-squared:                       0.920\n",
       "Model:                            OLS   Adj. R-squared:                  0.919\n",
       "Method:                 Least Squares   F-statistic:                     561.3\n",
       "Date:                Wed, 27 Nov 2024   Prob (F-statistic):           4.76e-54\n",
       "Time:                        11:26:26   Log-Likelihood:                -538.16\n",
       "No. Observations:                 100   AIC:                             1082.\n",
       "Df Residuals:                      97   BIC:                             1090.\n",
       "Df Model:                           2                                         \n",
       "Covariance Type:            nonrobust                                         \n",
       "==============================================================================\n",
       "                 coef    std err          t      P>|t|      [0.025      0.975]\n",
       "------------------------------------------------------------------------------\n",
       "Intercept     96.3719     22.870      4.214      0.000      50.981     141.762\n",
       "bo_yta         4.5963      0.169     27.200      0.000       4.261       4.932\n",
       "tomt           0.4482      0.198      2.260      0.026       0.055       0.842\n",
       "==============================================================================\n",
       "Omnibus:                        2.195   Durbin-Watson:                   1.954\n",
       "Prob(Omnibus):                  0.334   Jarque-Bera (JB):                2.138\n",
       "Skew:                          -0.289   Prob(JB):                        0.343\n",
       "Kurtosis:                       2.577   Cond. No.                         786.\n",
       "==============================================================================\n",
       "\n",
       "Notes:\n",
       "[1] Standard Errors assume that the covariance matrix of the errors is correctly specified.\n",
       "\"\"\""
      ]
     },
     "execution_count": 78,
     "metadata": {},
     "output_type": "execute_result"
    },
    {
     "data": {
      "image/png": "[encoded data removed]",
      "text/plain": [
       "<Figure size 250x250 with 1 Axes>"
      ]
     },
     "metadata": {},
     "output_type": "display_data"
    }
   ],
   "source": [
    "tester = smf.ols(formula='pris~bo_yta+tomt',data=Utrecht)\n",
    "Utrecht['res'] = tester.fit().resid\n",
    "sns.pairplot(Utrecht,x_vars={'ar'},y_vars='pris')\n",
    "tester.fit().summary()"
   ]
  },
  {
   "cell_type": "markdown",
   "metadata": {},
   "source": [
    "Adj. R-squared blir sämre om vi tränar med 90 datapunkter jämfört med 80\n",
    "Vidare förbättrar inte balkong prediktionen, dessutom är 0 inom balkongkoefficientens konfidensintervall"
   ]
  },
  {
   "cell_type": "code",
   "execution_count": 75,
   "metadata": {},
   "outputs": [
    {
     "data": {
      "text/html": [
       "<table class=\"simpletable\">\n",
       "<caption>OLS Regression Results</caption>\n",
       "<tr>\n",
       "  <th>Dep. Variable:</th>          <td>pris</td>       <th>  R-squared:         </th> <td>   0.975</td>\n",
       "</tr>\n",
       "<tr>\n",
       "  <th>Model:</th>                   <td>OLS</td>       <th>  Adj. R-squared:    </th> <td>   0.974</td>\n",
       "</tr>\n",
       "<tr>\n",
       "  <th>Method:</th>             <td>Least Squares</td>  <th>  F-statistic:       </th> <td>   734.4</td>\n",
       "</tr>\n",
       "<tr>\n",
       "  <th>Date:</th>             <td>Wed, 27 Nov 2024</td> <th>  Prob (F-statistic):</th> <td>2.69e-59</td>\n",
       "</tr>\n",
       "<tr>\n",
       "  <th>Time:</th>                 <td>11:22:10</td>     <th>  Log-Likelihood:    </th> <td> -384.21</td>\n",
       "</tr>\n",
       "<tr>\n",
       "  <th>No. Observations:</th>      <td>    80</td>      <th>  AIC:               </th> <td>   778.4</td>\n",
       "</tr>\n",
       "<tr>\n",
       "  <th>Df Residuals:</th>          <td>    75</td>      <th>  BIC:               </th> <td>   790.3</td>\n",
       "</tr>\n",
       "<tr>\n",
       "  <th>Df Model:</th>              <td>     4</td>      <th>                     </th>     <td> </td>   \n",
       "</tr>\n",
       "<tr>\n",
       "  <th>Covariance Type:</th>      <td>nonrobust</td>    <th>                     </th>     <td> </td>   \n",
       "</tr>\n",
       "</table>\n",
       "<table class=\"simpletable\">\n",
       "<tr>\n",
       "       <td></td>         <th>coef</th>     <th>std err</th>      <th>t</th>      <th>P>|t|</th>  <th>[0.025</th>    <th>0.975]</th>  \n",
       "</tr>\n",
       "<tr>\n",
       "  <th>Intercept</th>  <td>-1.194e+05</td> <td> 2.76e+04</td> <td>   -4.331</td> <td> 0.000</td> <td>-1.74e+05</td> <td>-6.45e+04</td>\n",
       "</tr>\n",
       "<tr>\n",
       "  <th>bo_yta</th>     <td>    4.7804</td> <td>    0.121</td> <td>   39.485</td> <td> 0.000</td> <td>    4.539</td> <td>    5.022</td>\n",
       "</tr>\n",
       "<tr>\n",
       "  <th>ar</th>         <td>  122.7772</td> <td>   27.956</td> <td>    4.392</td> <td> 0.000</td> <td>   67.085</td> <td>  178.469</td>\n",
       "</tr>\n",
       "<tr>\n",
       "  <th>I(ar ** 2)</th> <td>   -0.0315</td> <td>    0.007</td> <td>   -4.452</td> <td> 0.000</td> <td>   -0.046</td> <td>   -0.017</td>\n",
       "</tr>\n",
       "<tr>\n",
       "  <th>tomt</th>       <td>    0.4928</td> <td>    0.128</td> <td>    3.859</td> <td> 0.000</td> <td>    0.238</td> <td>    0.747</td>\n",
       "</tr>\n",
       "</table>\n",
       "<table class=\"simpletable\">\n",
       "<tr>\n",
       "  <th>Omnibus:</th>       <td> 0.942</td> <th>  Durbin-Watson:     </th> <td>   2.058</td>\n",
       "</tr>\n",
       "<tr>\n",
       "  <th>Prob(Omnibus):</th> <td> 0.624</td> <th>  Jarque-Bera (JB):  </th> <td>   0.411</td>\n",
       "</tr>\n",
       "<tr>\n",
       "  <th>Skew:</th>          <td>-0.006</td> <th>  Prob(JB):          </th> <td>   0.814</td>\n",
       "</tr>\n",
       "<tr>\n",
       "  <th>Kurtosis:</th>      <td> 3.351</td> <th>  Cond. No.          </th> <td>3.14e+10</td>\n",
       "</tr>\n",
       "</table><br/><br/>Notes:<br/>[1] Standard Errors assume that the covariance matrix of the errors is correctly specified.<br/>[2] The condition number is large, 3.14e+10. This might indicate that there are<br/>strong multicollinearity or other numerical problems."
      ],
      "text/latex": [
       "\\begin{center}\n",
       "\\begin{tabular}{lclc}\n",
       "\\toprule\n",
       "\\textbf{Dep. Variable:}    &       pris       & \\textbf{  R-squared:         } &     0.975   \\\\\n",
       "\\textbf{Model:}            &       OLS        & \\textbf{  Adj. R-squared:    } &     0.974   \\\\\n",
       "\\textbf{Method:}           &  Least Squares   & \\textbf{  F-statistic:       } &     734.4   \\\\\n",
       "\\textbf{Date:}             & Wed, 27 Nov 2024 & \\textbf{  Prob (F-statistic):} &  2.69e-59   \\\\\n",
       "\\textbf{Time:}             &     11:22:10     & \\textbf{  Log-Likelihood:    } &   -384.21   \\\\\n",
       "\\textbf{No. Observations:} &          80      & \\textbf{  AIC:               } &     778.4   \\\\\n",
       "\\textbf{Df Residuals:}     &          75      & \\textbf{  BIC:               } &     790.3   \\\\\n",
       "\\textbf{Df Model:}         &           4      & \\textbf{                     } &             \\\\\n",
       "\\textbf{Covariance Type:}  &    nonrobust     & \\textbf{                     } &             \\\\\n",
       "\\bottomrule\n",
       "\\end{tabular}\n",
       "\\begin{tabular}{lcccccc}\n",
       "                    & \\textbf{coef} & \\textbf{std err} & \\textbf{t} & \\textbf{P$> |$t$|$} & \\textbf{[0.025} & \\textbf{0.975]}  \\\\\n",
       "\\midrule\n",
       "\\textbf{Intercept}  &   -1.194e+05  &     2.76e+04     &    -4.331  &         0.000        &    -1.74e+05    &    -6.45e+04     \\\\\n",
       "\\textbf{bo\\_yta}    &       4.7804  &        0.121     &    39.485  &         0.000        &        4.539    &        5.022     \\\\\n",
       "\\textbf{ar}         &     122.7772  &       27.956     &     4.392  &         0.000        &       67.085    &      178.469     \\\\\n",
       "\\textbf{I(ar ** 2)} &      -0.0315  &        0.007     &    -4.452  &         0.000        &       -0.046    &       -0.017     \\\\\n",
       "\\textbf{tomt}       &       0.4928  &        0.128     &     3.859  &         0.000        &        0.238    &        0.747     \\\\\n",
       "\\bottomrule\n",
       "\\end{tabular}\n",
       "\\begin{tabular}{lclc}\n",
       "\\textbf{Omnibus:}       &  0.942 & \\textbf{  Durbin-Watson:     } &    2.058  \\\\\n",
       "\\textbf{Prob(Omnibus):} &  0.624 & \\textbf{  Jarque-Bera (JB):  } &    0.411  \\\\\n",
       "\\textbf{Skew:}          & -0.006 & \\textbf{  Prob(JB):          } &    0.814  \\\\\n",
       "\\textbf{Kurtosis:}      &  3.351 & \\textbf{  Cond. No.          } & 3.14e+10  \\\\\n",
       "\\bottomrule\n",
       "\\end{tabular}\n",
       "%\\caption{OLS Regression Results}\n",
       "\\end{center}\n",
       "\n",
       "Notes: \\newline\n",
       " [1] Standard Errors assume that the covariance matrix of the errors is correctly specified. \\newline\n",
       " [2] The condition number is large, 3.14e+10. This might indicate that there are \\newline\n",
       " strong multicollinearity or other numerical problems."
      ],
      "text/plain": [
       "<class 'statsmodels.iolib.summary.Summary'>\n",
       "\"\"\"\n",
       "                            OLS Regression Results                            \n",
       "==============================================================================\n",
       "Dep. Variable:                   pris   R-squared:                       0.975\n",
       "Model:                            OLS   Adj. R-squared:                  0.974\n",
       "Method:                 Least Squares   F-statistic:                     734.4\n",
       "Date:                Wed, 27 Nov 2024   Prob (F-statistic):           2.69e-59\n",
       "Time:                        11:22:10   Log-Likelihood:                -384.21\n",
       "No. Observations:                  80   AIC:                             778.4\n",
       "Df Residuals:                      75   BIC:                             790.3\n",
       "Df Model:                           4                                         \n",
       "Covariance Type:            nonrobust                                         \n",
       "==============================================================================\n",
       "                 coef    std err          t      P>|t|      [0.025      0.975]\n",
       "------------------------------------------------------------------------------\n",
       "Intercept  -1.194e+05   2.76e+04     -4.331      0.000   -1.74e+05   -6.45e+04\n",
       "bo_yta         4.7804      0.121     39.485      0.000       4.539       5.022\n",
       "ar           122.7772     27.956      4.392      0.000      67.085     178.469\n",
       "I(ar ** 2)    -0.0315      0.007     -4.452      0.000      -0.046      -0.017\n",
       "tomt           0.4928      0.128      3.859      0.000       0.238       0.747\n",
       "==============================================================================\n",
       "Omnibus:                        0.942   Durbin-Watson:                   2.058\n",
       "Prob(Omnibus):                  0.624   Jarque-Bera (JB):                0.411\n",
       "Skew:                          -0.006   Prob(JB):                        0.814\n",
       "Kurtosis:                       3.351   Cond. No.                     3.14e+10\n",
       "==============================================================================\n",
       "\n",
       "Notes:\n",
       "[1] Standard Errors assume that the covariance matrix of the errors is correctly specified.\n",
       "[2] The condition number is large, 3.14e+10. This might indicate that there are\n",
       "strong multicollinearity or other numerical problems.\n",
       "\"\"\""
      ]
     },
     "execution_count": 75,
     "metadata": {},
     "output_type": "execute_result"
    }
   ],
   "source": [
    "nbr_train_data = 80\n",
    "#Enkel regression av pris\n",
    "res = smf.ols(formula='pris~bo_yta+ar+I(ar**2)+tomt',data=Utrecht[:nbr_train_data])\n",
    "Utrecht['res'] = res.fit().resid\n",
    "model =res.fit()\n",
    "Utrecht['res'] = Utrecht['pris'] - model.predict(Utrecht)\n",
    "fit=res.fit()\n",
    "fit.summary()\n",
    "\n"
   ]
  },
  {
   "cell_type": "code",
   "execution_count": 74,
   "metadata": {},
   "outputs": [
    {
     "data": {
      "text/plain": [
       "<seaborn.axisgrid.PairGrid at 0x1e163b29690>"
      ]
     },
     "execution_count": 74,
     "metadata": {},
     "output_type": "execute_result"
    },
    {
     "data": {
      "image/png": "[encoded data removed]",
      "text/plain": [
       "<Figure size 750x250 with 3 Axes>"
      ]
     },
     "metadata": {},
     "output_type": "display_data"
    }
   ],
   "source": [
    "#Visar residualer för vår modell med testdata\n",
    "sns.pairplot(Utrecht[nbr_train_data:],x_vars={'bo_yta','tomt','ar'},y_vars='res')"
   ]
  },
  {
   "cell_type": "markdown",
   "metadata": {},
   "source": []
  },
  {
   "cell_type": "code",
   "execution_count": 60,
   "metadata": {},
   "outputs": [
    {
     "data": {
      "text/plain": [
       "((array([-1.8241636 , -1.38768012, -1.11829229, -0.91222575, -0.73908135,\n",
       "         -0.5857176 , -0.44506467, -0.31273668, -0.18568928, -0.06158146,\n",
       "          0.06158146,  0.18568928,  0.31273668,  0.44506467,  0.5857176 ,\n",
       "          0.73908135,  0.91222575,  1.11829229,  1.38768012,  1.8241636 ]),\n",
       "  array([ 486.56322306,  564.54278408,  572.8783184 ,  613.51714995,\n",
       "          656.1395112 ,  669.76685981,  679.28924773,  712.66638881,\n",
       "          732.78829032,  755.18378963,  777.30049435,  798.5679156 ,\n",
       "          822.94067738,  842.34578837,  925.98199801,  954.34910559,\n",
       "          991.82921463, 1038.86677821, 1087.65405845, 1238.72010597])),\n",
       " (201.84119915842982, 796.094584977092, 0.9857522349401104))"
      ]
     },
     "execution_count": 60,
     "metadata": {},
     "output_type": "execute_result"
    },
    {
     "data": {
      "image/png": "[encoded data removed]",
      "text/plain": [
       "<Figure size 640x480 with 1 Axes>"
      ]
     },
     "metadata": {},
     "output_type": "display_data"
    }
   ],
   "source": [
    "#residualerna verkar väldigt normalfördelade\n",
    "pred_res = fit.predict(Utrecht[nbr_train_data:])\n",
    "stats.probplot(x=pred_res,fit = True,plot=plt)"
   ]
  },
  {
   "cell_type": "markdown",
   "metadata": {},
   "source": []
  },
  {
   "cell_type": "code",
   "execution_count": null,
   "metadata": {},
   "outputs": [
    {
     "data": {
      "text/html": [
       "<div>\n",
       "<style scoped>\n",
       "    .dataframe tbody tr th:only-of-type {\n",
       "        vertical-align: middle;\n",
       "    }\n",
       "\n",
       "    .dataframe tbody tr th {\n",
       "        vertical-align: top;\n",
       "    }\n",
       "\n",
       "    .dataframe thead th {\n",
       "        text-align: right;\n",
       "    }\n",
       "</style>\n",
       "<table border=\"1\" class=\"dataframe\">\n",
       "  <thead>\n",
       "    <tr style=\"text-align: right;\">\n",
       "      <th></th>\n",
       "      <th>mean</th>\n",
       "      <th>mean_se</th>\n",
       "      <th>mean_ci_lower</th>\n",
       "      <th>mean_ci_upper</th>\n",
       "      <th>obs_ci_lower</th>\n",
       "      <th>obs_ci_upper</th>\n",
       "    </tr>\n",
       "  </thead>\n",
       "  <tbody>\n",
       "    <tr>\n",
       "      <th>0</th>\n",
       "      <td>839.394908</td>\n",
       "      <td>16.489914</td>\n",
       "      <td>806.545315</td>\n",
       "      <td>872.244501</td>\n",
       "      <td>770.416433</td>\n",
       "      <td>908.373383</td>\n",
       "    </tr>\n",
       "  </tbody>\n",
       "</table>\n",
       "</div>"
      ],
      "text/plain": [
       "         mean    mean_se  mean_ci_lower  mean_ci_upper  obs_ci_lower  \\\n",
       "0  839.394908  16.489914     806.545315     872.244501    770.416433   \n",
       "\n",
       "   obs_ci_upper  \n",
       "0    908.373383  "
      ]
     },
     "execution_count": 79,
     "metadata": {},
     "output_type": "execute_result"
    },
    {
     "ename": "",
     "evalue": "",
     "output_type": "error",
     "traceback": [
      "\u001b[1;31mThe Kernel crashed while executing code in the current cell or a previous cell. \n",
      "\u001b[1;31mPlease review the code in the cell(s) to identify a possible cause of the failure. \n",
      "\u001b[1;31mClick <a href='https://aka.ms/vscodeJupyterKernelCrash'>here</a> for more info. \n",
      "\u001b[1;31mView Jupyter <a href='command:jupyter.viewOutput'>log</a> for further details."
     ]
    }
   ],
   "source": [
    "target = pd.DataFrame({\"bo_yta\": [175], \"ar\": [2022], \"tomt\": [150]})\n",
    "fit.get_prediction(target).summary_frame(alpha=0.05)"
   ]
  },
  {
   "cell_type": "markdown",
   "metadata": {},
   "source": [
    "Löser 3.3 uppgift 2 genom att ge oss värdet av vår t-funktion (ta) som vårt nedåtbegränsade konfidensintervall har."
   ]
  },
  {
   "cell_type": "code",
   "execution_count": null,
   "metadata": {},
   "outputs": [
    {
     "name": "stdout",
     "output_type": "stream",
     "text": [
      "               Intercept       bo_yta             ar  I(ar ** 2)         tomt\n",
      "Intercept   7.604716e+08  1356.348554 -770934.953014  195.266200  1174.275499\n",
      "bo_yta      1.356349e+03     0.014658      -1.370170    0.000346    -0.003418\n",
      "ar         -7.709350e+05    -1.370170     781.560495   -0.197962    -1.190362\n",
      "I(ar ** 2)  1.952662e+02     0.000346      -0.197962    0.000050     0.000301\n",
      "tomt        1.174275e+03    -0.003418      -1.190362    0.000301     0.016307\n",
      "927.0407510779373\n",
      "0    839.394908\n",
      "dtype: float64\n",
      "0    1.028277\n",
      "dtype: float64\n"
     ]
    }
   ],
   "source": [
    "\n",
    "X_inv = np.array(fit.cov_params())\n",
    "print(fit.cov_params())\n",
    "x0 = np.array([1,175,2022,2022**2,150])\n",
    "print(fit.mse_resid)\n",
    "sigma = m.sqrt(fit.mse_resid+np.matmul(np.matmul(x0.T,fit.cov_params()),x0))\n",
    "\n",
    "\n",
    "print(fit.predict(target))\n",
    "ta = (875-fit.predict(target))/sigma\n",
    "print(ta)\n",
    "#alpha = 0.1536 get oss rätt t-funktion"
   ]
  }
 ],
 "metadata": {
  "kernelspec": {
   "display_name": "Python 3",
   "language": "python",
   "name": "python3"
  },
  "language_info": {
   "codemirror_mode": {
    "name": "ipython",
    "version": 3
   },
   "file_extension": ".py",
   "mimetype": "text/x-python",
   "name": "python",
   "nbconvert_exporter": "python",
   "pygments_lexer": "ipython3",
   "version": "3.11.9"
  }
 },
 "nbformat": 4,
 "nbformat_minor": 2
}
