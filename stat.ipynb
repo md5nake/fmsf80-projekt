{
 "cells": [
  {
   "cell_type": "code",
   "execution_count": 1,
   "metadata": {},
   "outputs": [],
   "source": [
    "import numpy as np\n",
    "import scipy.stats as stats\n",
    "import pandas as pd\n",
    "import matplotlib.pyplot as plt\n",
    "import seaborn as sns\n",
    "import statsmodels.api as sm\n",
    "import statsmodels.formula.api as smf"
   ]
  },
  {
   "cell_type": "code",
   "execution_count": 2,
   "metadata": {},
   "outputs": [
    {
     "name": "stdout",
     "output_type": "stream",
     "text": [
      "     tomt  bo_yta  balkong    ar  pris\n",
      "0    55.6   93.60        0  1935   568\n",
      "1   115.3  111.60        1  1927   649\n",
      "2    66.0  117.00        0  1941   716\n",
      "3   102.1  141.75        1  1940   825\n",
      "4   142.6  182.25        1  1960  1015\n",
      "..    ...     ...      ...   ...   ...\n",
      "95  119.9  153.00        1  2004   792\n",
      "96   73.0   98.55        0  2007   497\n",
      "97   90.3  154.80        1  1958   908\n",
      "98  131.9  196.20        1  1956  1198\n",
      "99  131.4  156.60        1  1964   924\n",
      "\n",
      "[100 rows x 5 columns]\n"
     ]
    }
   ],
   "source": [
    "Utrecht = pd.read_csv('Utrecht.csv', encoding='utf-8')\n",
    "print( Utrecht )"
   ]
  },
  {
   "cell_type": "code",
   "execution_count": 3,
   "metadata": {},
   "outputs": [
    {
     "name": "stdout",
     "output_type": "stream",
     "text": [
      "count      81.000000\n",
      "mean      801.222222\n",
      "std       185.715845\n",
      "min       440.000000\n",
      "25%       671.000000\n",
      "50%       792.000000\n",
      "75%       908.000000\n",
      "max      1339.000000\n",
      "Name: pris, dtype: float64\n",
      "count      19.000000\n",
      "mean      701.736842\n",
      "std       177.449787\n",
      "min       466.000000\n",
      "25%       534.000000\n",
      "50%       706.000000\n",
      "75%       790.500000\n",
      "max      1070.000000\n",
      "Name: pris, dtype: float64\n"
     ]
    }
   ],
   "source": [
    "print(Utrecht[Utrecht['balkong']==1]['pris'].describe())\n",
    "print(Utrecht[Utrecht['balkong']==0]['pris'].describe())"
   ]
  },
  {
   "cell_type": "markdown",
   "metadata": {},
   "source": [
    "Adj. R-squared blir sämre om vi tränar med 90 datapunkter jämfört med 80\n",
    "Vidare förbättrar inte balkong prediktionen, dessutom är 0 inom balkongkoefficientens konfidensintervall"
   ]
  },
  {
   "cell_type": "code",
   "execution_count": null,
   "metadata": {},
   "outputs": [
    {
     "data": {
      "text/html": [
       "<table class=\"simpletable\">\n",
       "<caption>OLS Regression Results</caption>\n",
       "<tr>\n",
       "  <th>Dep. Variable:</th>          <td>pris</td>       <th>  R-squared:         </th> <td>   0.971</td>\n",
       "</tr>\n",
       "<tr>\n",
       "  <th>Model:</th>                   <td>OLS</td>       <th>  Adj. R-squared:    </th> <td>   0.970</td>\n",
       "</tr>\n",
       "<tr>\n",
       "  <th>Method:</th>             <td>Least Squares</td>  <th>  F-statistic:       </th> <td>   840.6</td>\n",
       "</tr>\n",
       "<tr>\n",
       "  <th>Date:</th>             <td>Mon, 25 Nov 2024</td> <th>  Prob (F-statistic):</th> <td>3.60e-58</td>\n",
       "</tr>\n",
       "<tr>\n",
       "  <th>Time:</th>                 <td>10:56:53</td>     <th>  Log-Likelihood:    </th> <td> -391.49</td>\n",
       "</tr>\n",
       "<tr>\n",
       "  <th>No. Observations:</th>      <td>    80</td>      <th>  AIC:               </th> <td>   791.0</td>\n",
       "</tr>\n",
       "<tr>\n",
       "  <th>Df Residuals:</th>          <td>    76</td>      <th>  BIC:               </th> <td>   800.5</td>\n",
       "</tr>\n",
       "<tr>\n",
       "  <th>Df Model:</th>              <td>     3</td>      <th>                     </th>     <td> </td>   \n",
       "</tr>\n",
       "<tr>\n",
       "  <th>Covariance Type:</th>      <td>nonrobust</td>    <th>                     </th>     <td> </td>   \n",
       "</tr>\n",
       "</table>\n",
       "<table class=\"simpletable\">\n",
       "<tr>\n",
       "      <td></td>         <th>coef</th>     <th>std err</th>      <th>t</th>      <th>P>|t|</th>  <th>[0.025</th>    <th>0.975]</th>  \n",
       "</tr>\n",
       "<tr>\n",
       "  <th>Intercept</th> <td> 3058.3470</td> <td>  298.605</td> <td>   10.242</td> <td> 0.000</td> <td> 2463.623</td> <td> 3653.071</td>\n",
       "</tr>\n",
       "<tr>\n",
       "  <th>bo_yta</th>    <td>    4.9070</td> <td>    0.124</td> <td>   39.691</td> <td> 0.000</td> <td>    4.661</td> <td>    5.153</td>\n",
       "</tr>\n",
       "<tr>\n",
       "  <th>ar</th>        <td>   -1.5383</td> <td>    0.155</td> <td>   -9.919</td> <td> 0.000</td> <td>   -1.847</td> <td>   -1.229</td>\n",
       "</tr>\n",
       "<tr>\n",
       "  <th>tomt</th>      <td>    0.6831</td> <td>    0.149</td> <td>    4.590</td> <td> 0.000</td> <td>    0.387</td> <td>    0.979</td>\n",
       "</tr>\n",
       "</table>\n",
       "<table class=\"simpletable\">\n",
       "<tr>\n",
       "  <th>Omnibus:</th>       <td> 1.777</td> <th>  Durbin-Watson:     </th> <td>   1.559</td>\n",
       "</tr>\n",
       "<tr>\n",
       "  <th>Prob(Omnibus):</th> <td> 0.411</td> <th>  Jarque-Bera (JB):  </th> <td>   1.489</td>\n",
       "</tr>\n",
       "<tr>\n",
       "  <th>Skew:</th>          <td>-0.334</td> <th>  Prob(JB):          </th> <td>   0.475</td>\n",
       "</tr>\n",
       "<tr>\n",
       "  <th>Kurtosis:</th>      <td> 2.995</td> <th>  Cond. No.          </th> <td>1.59e+05</td>\n",
       "</tr>\n",
       "</table><br/><br/>Notes:<br/>[1] Standard Errors assume that the covariance matrix of the errors is correctly specified.<br/>[2] The condition number is large, 1.59e+05. This might indicate that there are<br/>strong multicollinearity or other numerical problems."
      ],
      "text/latex": [
       "\\begin{center}\n",
       "\\begin{tabular}{lclc}\n",
       "\\toprule\n",
       "\\textbf{Dep. Variable:}    &       pris       & \\textbf{  R-squared:         } &     0.971   \\\\\n",
       "\\textbf{Model:}            &       OLS        & \\textbf{  Adj. R-squared:    } &     0.970   \\\\\n",
       "\\textbf{Method:}           &  Least Squares   & \\textbf{  F-statistic:       } &     840.6   \\\\\n",
       "\\textbf{Date:}             & Mon, 25 Nov 2024 & \\textbf{  Prob (F-statistic):} &  3.60e-58   \\\\\n",
       "\\textbf{Time:}             &     10:56:53     & \\textbf{  Log-Likelihood:    } &   -391.49   \\\\\n",
       "\\textbf{No. Observations:} &          80      & \\textbf{  AIC:               } &     791.0   \\\\\n",
       "\\textbf{Df Residuals:}     &          76      & \\textbf{  BIC:               } &     800.5   \\\\\n",
       "\\textbf{Df Model:}         &           3      & \\textbf{                     } &             \\\\\n",
       "\\textbf{Covariance Type:}  &    nonrobust     & \\textbf{                     } &             \\\\\n",
       "\\bottomrule\n",
       "\\end{tabular}\n",
       "\\begin{tabular}{lcccccc}\n",
       "                   & \\textbf{coef} & \\textbf{std err} & \\textbf{t} & \\textbf{P$> |$t$|$} & \\textbf{[0.025} & \\textbf{0.975]}  \\\\\n",
       "\\midrule\n",
       "\\textbf{Intercept} &    3058.3470  &      298.605     &    10.242  &         0.000        &     2463.623    &     3653.071     \\\\\n",
       "\\textbf{bo\\_yta}   &       4.9070  &        0.124     &    39.691  &         0.000        &        4.661    &        5.153     \\\\\n",
       "\\textbf{ar}        &      -1.5383  &        0.155     &    -9.919  &         0.000        &       -1.847    &       -1.229     \\\\\n",
       "\\textbf{tomt}      &       0.6831  &        0.149     &     4.590  &         0.000        &        0.387    &        0.979     \\\\\n",
       "\\bottomrule\n",
       "\\end{tabular}\n",
       "\\begin{tabular}{lclc}\n",
       "\\textbf{Omnibus:}       &  1.777 & \\textbf{  Durbin-Watson:     } &    1.559  \\\\\n",
       "\\textbf{Prob(Omnibus):} &  0.411 & \\textbf{  Jarque-Bera (JB):  } &    1.489  \\\\\n",
       "\\textbf{Skew:}          & -0.334 & \\textbf{  Prob(JB):          } &    0.475  \\\\\n",
       "\\textbf{Kurtosis:}      &  2.995 & \\textbf{  Cond. No.          } & 1.59e+05  \\\\\n",
       "\\bottomrule\n",
       "\\end{tabular}\n",
       "%\\caption{OLS Regression Results}\n",
       "\\end{center}\n",
       "\n",
       "Notes: \\newline\n",
       " [1] Standard Errors assume that the covariance matrix of the errors is correctly specified. \\newline\n",
       " [2] The condition number is large, 1.59e+05. This might indicate that there are \\newline\n",
       " strong multicollinearity or other numerical problems."
      ],
      "text/plain": [
       "<class 'statsmodels.iolib.summary.Summary'>\n",
       "\"\"\"\n",
       "                            OLS Regression Results                            \n",
       "==============================================================================\n",
       "Dep. Variable:                   pris   R-squared:                       0.971\n",
       "Model:                            OLS   Adj. R-squared:                  0.970\n",
       "Method:                 Least Squares   F-statistic:                     840.6\n",
       "Date:                Mon, 25 Nov 2024   Prob (F-statistic):           3.60e-58\n",
       "Time:                        10:56:53   Log-Likelihood:                -391.49\n",
       "No. Observations:                  80   AIC:                             791.0\n",
       "Df Residuals:                      76   BIC:                             800.5\n",
       "Df Model:                           3                                         \n",
       "Covariance Type:            nonrobust                                         \n",
       "==============================================================================\n",
       "                 coef    std err          t      P>|t|      [0.025      0.975]\n",
       "------------------------------------------------------------------------------\n",
       "Intercept   3058.3470    298.605     10.242      0.000    2463.623    3653.071\n",
       "bo_yta         4.9070      0.124     39.691      0.000       4.661       5.153\n",
       "ar            -1.5383      0.155     -9.919      0.000      -1.847      -1.229\n",
       "tomt           0.6831      0.149      4.590      0.000       0.387       0.979\n",
       "==============================================================================\n",
       "Omnibus:                        1.777   Durbin-Watson:                   1.559\n",
       "Prob(Omnibus):                  0.411   Jarque-Bera (JB):                1.489\n",
       "Skew:                          -0.334   Prob(JB):                        0.475\n",
       "Kurtosis:                       2.995   Cond. No.                     1.59e+05\n",
       "==============================================================================\n",
       "\n",
       "Notes:\n",
       "[1] Standard Errors assume that the covariance matrix of the errors is correctly specified.\n",
       "[2] The condition number is large, 1.59e+05. This might indicate that there are\n",
       "strong multicollinearity or other numerical problems.\n",
       "\"\"\""
      ]
     },
     "execution_count": 48,
     "metadata": {},
     "output_type": "execute_result"
    }
   ],
   "source": [
    "\n",
    "#Enkel regression av pris\n",
    "res = smf.ols(formula='pris~bo_yta+ar+tomt',data=Utrecht[:80])\n",
    "Utrecht['res'] = res.fit().resid\n",
    "model =res.fit()\n",
    "Utrecht['res'] = Utrecht['pris'] - model.predict(Utrecht)\n",
    "res.fit().summary()\n",
    "\n"
   ]
  },
  {
   "cell_type": "code",
   "execution_count": null,
   "metadata": {},
   "outputs": [
    {
     "data": {
      "text/plain": [
       "<seaborn.axisgrid.PairGrid at 0x1ea89ad6810>"
      ]
     },
     "execution_count": 46,
     "metadata": {},
     "output_type": "execute_result"
    },
    {
     "data": {
      "image/png": "[encoded data removed]",
      "text/plain": [
       "<Figure size 1500x250 with 7 Axes>"
      ]
     },
     "metadata": {},
     "output_type": "display_data"
    }
   ],
   "source": [
    "#Visar residualer för vår modell med testdata\n",
    "sns.pairplot(Utrecht[80:],y_vars='res')"
   ]
  },
  {
   "cell_type": "markdown",
   "metadata": {},
   "source": []
  },
  {
   "cell_type": "code",
   "execution_count": 44,
   "metadata": {},
   "outputs": [
    {
     "data": {
      "text/html": [
       "<div>\n",
       "<style scoped>\n",
       "    .dataframe tbody tr th:only-of-type {\n",
       "        vertical-align: middle;\n",
       "    }\n",
       "\n",
       "    .dataframe tbody tr th {\n",
       "        vertical-align: top;\n",
       "    }\n",
       "\n",
       "    .dataframe thead th {\n",
       "        text-align: right;\n",
       "    }\n",
       "</style>\n",
       "<table border=\"1\" class=\"dataframe\">\n",
       "  <thead>\n",
       "    <tr style=\"text-align: right;\">\n",
       "      <th></th>\n",
       "      <th>tomt</th>\n",
       "      <th>bo_yta</th>\n",
       "      <th>balkong</th>\n",
       "      <th>ar</th>\n",
       "      <th>pris</th>\n",
       "      <th>res</th>\n",
       "    </tr>\n",
       "  </thead>\n",
       "  <tbody>\n",
       "    <tr>\n",
       "      <th>count</th>\n",
       "      <td>100.000000</td>\n",
       "      <td>100.000000</td>\n",
       "      <td>100.000000</td>\n",
       "      <td>100.000000</td>\n",
       "      <td>100.000000</td>\n",
       "      <td>100.000000</td>\n",
       "    </tr>\n",
       "    <tr>\n",
       "      <th>mean</th>\n",
       "      <td>112.783000</td>\n",
       "      <td>138.240000</td>\n",
       "      <td>0.810000</td>\n",
       "      <td>1969.460000</td>\n",
       "      <td>782.320000</td>\n",
       "      <td>-1.826556</td>\n",
       "    </tr>\n",
       "    <tr>\n",
       "      <th>std</th>\n",
       "      <td>31.858304</td>\n",
       "      <td>37.396767</td>\n",
       "      <td>0.394277</td>\n",
       "      <td>26.554469</td>\n",
       "      <td>187.442699</td>\n",
       "      <td>34.782480</td>\n",
       "    </tr>\n",
       "    <tr>\n",
       "      <th>min</th>\n",
       "      <td>54.500000</td>\n",
       "      <td>68.850000</td>\n",
       "      <td>0.000000</td>\n",
       "      <td>1926.000000</td>\n",
       "      <td>440.000000</td>\n",
       "      <td>-79.872251</td>\n",
       "    </tr>\n",
       "    <tr>\n",
       "      <th>25%</th>\n",
       "      <td>89.650000</td>\n",
       "      <td>109.350000</td>\n",
       "      <td>1.000000</td>\n",
       "      <td>1946.250000</td>\n",
       "      <td>653.500000</td>\n",
       "      <td>-17.313327</td>\n",
       "    </tr>\n",
       "    <tr>\n",
       "      <th>50%</th>\n",
       "      <td>109.400000</td>\n",
       "      <td>137.475000</td>\n",
       "      <td>1.000000</td>\n",
       "      <td>1967.000000</td>\n",
       "      <td>770.500000</td>\n",
       "      <td>0.920159</td>\n",
       "    </tr>\n",
       "    <tr>\n",
       "      <th>75%</th>\n",
       "      <td>132.125000</td>\n",
       "      <td>162.450000</td>\n",
       "      <td>1.000000</td>\n",
       "      <td>1991.000000</td>\n",
       "      <td>893.500000</td>\n",
       "      <td>21.035756</td>\n",
       "    </tr>\n",
       "    <tr>\n",
       "      <th>max</th>\n",
       "      <td>198.400000</td>\n",
       "      <td>245.250000</td>\n",
       "      <td>1.000000</td>\n",
       "      <td>2017.000000</td>\n",
       "      <td>1339.000000</td>\n",
       "      <td>95.677809</td>\n",
       "    </tr>\n",
       "  </tbody>\n",
       "</table>\n",
       "</div>"
      ],
      "text/plain": [
       "             tomt      bo_yta     balkong           ar         pris  \\\n",
       "count  100.000000  100.000000  100.000000   100.000000   100.000000   \n",
       "mean   112.783000  138.240000    0.810000  1969.460000   782.320000   \n",
       "std     31.858304   37.396767    0.394277    26.554469   187.442699   \n",
       "min     54.500000   68.850000    0.000000  1926.000000   440.000000   \n",
       "25%     89.650000  109.350000    1.000000  1946.250000   653.500000   \n",
       "50%    109.400000  137.475000    1.000000  1967.000000   770.500000   \n",
       "75%    132.125000  162.450000    1.000000  1991.000000   893.500000   \n",
       "max    198.400000  245.250000    1.000000  2017.000000  1339.000000   \n",
       "\n",
       "              res  \n",
       "count  100.000000  \n",
       "mean    -1.826556  \n",
       "std     34.782480  \n",
       "min    -79.872251  \n",
       "25%    -17.313327  \n",
       "50%      0.920159  \n",
       "75%     21.035756  \n",
       "max     95.677809  "
      ]
     },
     "execution_count": 44,
     "metadata": {},
     "output_type": "execute_result"
    }
   ],
   "source": [
    "Utrecht.describe()"
   ]
  },
  {
   "cell_type": "markdown",
   "metadata": {},
   "source": []
  }
 ],
 "metadata": {
  "kernelspec": {
   "display_name": "Python 3",
   "language": "python",
   "name": "python3"
  },
  "language_info": {
   "codemirror_mode": {
    "name": "ipython",
    "version": 3
   },
   "file_extension": ".py",
   "mimetype": "text/x-python",
   "name": "python",
   "nbconvert_exporter": "python",
   "pygments_lexer": "ipython3",
   "version": "3.11.9"
  }
 },
 "nbformat": 4,
 "nbformat_minor": 2
}
