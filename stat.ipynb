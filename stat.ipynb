{
 "cells": [
  {
   "cell_type": "code",
   "execution_count": 15,
   "metadata": {},
   "outputs": [],
   "source": [
    "import numpy as np\n",
    "import scipy.stats as stats\n",
    "import pandas as pd\n",
    "import matplotlib.pyplot as plt\n",
    "import seaborn as sns\n",
    "import statsmodels.api as sm\n",
    "import statsmodels.formula.api as smf"
   ]
  },
  {
   "cell_type": "code",
   "execution_count": 16,
   "metadata": {},
   "outputs": [
    {
     "name": "stdout",
     "output_type": "stream",
     "text": [
      "     tomt  bo_yta  balkong    ar  pris\n",
      "0    55.6   93.60        0  1935   568\n",
      "1   115.3  111.60        1  1927   649\n",
      "2    66.0  117.00        0  1941   716\n",
      "3   102.1  141.75        1  1940   825\n",
      "4   142.6  182.25        1  1960  1015\n",
      "..    ...     ...      ...   ...   ...\n",
      "95  119.9  153.00        1  2004   792\n",
      "96   73.0   98.55        0  2007   497\n",
      "97   90.3  154.80        1  1958   908\n",
      "98  131.9  196.20        1  1956  1198\n",
      "99  131.4  156.60        1  1964   924\n",
      "\n",
      "[100 rows x 5 columns]\n"
     ]
    }
   ],
   "source": [
    "Utrecht = pd.read_csv('Utrecht.csv', encoding='utf-8')\n",
    "print( Utrecht )"
   ]
  },
  {
   "cell_type": "code",
   "execution_count": 17,
   "metadata": {},
   "outputs": [
    {
     "name": "stdout",
     "output_type": "stream",
     "text": [
      "count      81.000000\n",
      "mean      801.222222\n",
      "std       185.715845\n",
      "min       440.000000\n",
      "25%       671.000000\n",
      "50%       792.000000\n",
      "75%       908.000000\n",
      "max      1339.000000\n",
      "Name: pris, dtype: float64\n",
      "count      19.000000\n",
      "mean      701.736842\n",
      "std       177.449787\n",
      "min       466.000000\n",
      "25%       534.000000\n",
      "50%       706.000000\n",
      "75%       790.500000\n",
      "max      1070.000000\n",
      "Name: pris, dtype: float64\n"
     ]
    }
   ],
   "source": [
    "print(Utrecht[Utrecht['balkong']==1]['pris'].describe())\n",
    "print(Utrecht[Utrecht['balkong']==0]['pris'].describe())"
   ]
  },
  {
   "cell_type": "code",
   "execution_count": null,
   "metadata": {},
   "outputs": [
    {
     "data": {
      "text/html": [
       "<table class=\"simpletable\">\n",
       "<caption>OLS Regression Results</caption>\n",
       "<tr>\n",
       "  <th>Dep. Variable:</th>          <td>pris</td>       <th>  R-squared:         </th> <td>   0.916</td>\n",
       "</tr>\n",
       "<tr>\n",
       "  <th>Model:</th>                   <td>OLS</td>       <th>  Adj. R-squared:    </th> <td>   0.915</td>\n",
       "</tr>\n",
       "<tr>\n",
       "  <th>Method:</th>             <td>Least Squares</td>  <th>  F-statistic:       </th> <td>   1073.</td>\n",
       "</tr>\n",
       "<tr>\n",
       "  <th>Date:</th>             <td>Thu, 21 Nov 2024</td> <th>  Prob (F-statistic):</th> <td>1.39e-54</td>\n",
       "</tr>\n",
       "<tr>\n",
       "  <th>Time:</th>                 <td>15:54:25</td>     <th>  Log-Likelihood:    </th> <td> -540.73</td>\n",
       "</tr>\n",
       "<tr>\n",
       "  <th>No. Observations:</th>      <td>   100</td>      <th>  AIC:               </th> <td>   1085.</td>\n",
       "</tr>\n",
       "<tr>\n",
       "  <th>Df Residuals:</th>          <td>    98</td>      <th>  BIC:               </th> <td>   1091.</td>\n",
       "</tr>\n",
       "<tr>\n",
       "  <th>Df Model:</th>              <td>     1</td>      <th>                     </th>     <td> </td>   \n",
       "</tr>\n",
       "<tr>\n",
       "  <th>Covariance Type:</th>      <td>nonrobust</td>    <th>                     </th>     <td> </td>   \n",
       "</tr>\n",
       "</table>\n",
       "<table class=\"simpletable\">\n",
       "<tr>\n",
       "      <td></td>         <th>coef</th>     <th>std err</th>      <th>t</th>      <th>P>|t|</th>  <th>[0.025</th>    <th>0.975]</th>  \n",
       "</tr>\n",
       "<tr>\n",
       "  <th>Intercept</th> <td>  119.0639</td> <td>   20.973</td> <td>    5.677</td> <td> 0.000</td> <td>   77.443</td> <td>  160.685</td>\n",
       "</tr>\n",
       "<tr>\n",
       "  <th>bo_yta</th>    <td>    4.7979</td> <td>    0.147</td> <td>   32.749</td> <td> 0.000</td> <td>    4.507</td> <td>    5.089</td>\n",
       "</tr>\n",
       "</table>\n",
       "<table class=\"simpletable\">\n",
       "<tr>\n",
       "  <th>Omnibus:</th>       <td> 2.363</td> <th>  Durbin-Watson:     </th> <td>   1.130</td>\n",
       "</tr>\n",
       "<tr>\n",
       "  <th>Prob(Omnibus):</th> <td> 0.307</td> <th>  Jarque-Bera (JB):  </th> <td>   2.092</td>\n",
       "</tr>\n",
       "<tr>\n",
       "  <th>Skew:</th>          <td>-0.247</td> <th>  Prob(JB):          </th> <td>   0.351</td>\n",
       "</tr>\n",
       "<tr>\n",
       "  <th>Kurtosis:</th>      <td> 2.492</td> <th>  Cond. No.          </th> <td>    551.</td>\n",
       "</tr>\n",
       "</table><br/><br/>Notes:<br/>[1] Standard Errors assume that the covariance matrix of the errors is correctly specified."
      ],
      "text/latex": [
       "\\begin{center}\n",
       "\\begin{tabular}{lclc}\n",
       "\\toprule\n",
       "\\textbf{Dep. Variable:}    &       pris       & \\textbf{  R-squared:         } &     0.916   \\\\\n",
       "\\textbf{Model:}            &       OLS        & \\textbf{  Adj. R-squared:    } &     0.915   \\\\\n",
       "\\textbf{Method:}           &  Least Squares   & \\textbf{  F-statistic:       } &     1073.   \\\\\n",
       "\\textbf{Date:}             & Thu, 21 Nov 2024 & \\textbf{  Prob (F-statistic):} &  1.39e-54   \\\\\n",
       "\\textbf{Time:}             &     15:54:25     & \\textbf{  Log-Likelihood:    } &   -540.73   \\\\\n",
       "\\textbf{No. Observations:} &         100      & \\textbf{  AIC:               } &     1085.   \\\\\n",
       "\\textbf{Df Residuals:}     &          98      & \\textbf{  BIC:               } &     1091.   \\\\\n",
       "\\textbf{Df Model:}         &           1      & \\textbf{                     } &             \\\\\n",
       "\\textbf{Covariance Type:}  &    nonrobust     & \\textbf{                     } &             \\\\\n",
       "\\bottomrule\n",
       "\\end{tabular}\n",
       "\\begin{tabular}{lcccccc}\n",
       "                   & \\textbf{coef} & \\textbf{std err} & \\textbf{t} & \\textbf{P$> |$t$|$} & \\textbf{[0.025} & \\textbf{0.975]}  \\\\\n",
       "\\midrule\n",
       "\\textbf{Intercept} &     119.0639  &       20.973     &     5.677  &         0.000        &       77.443    &      160.685     \\\\\n",
       "\\textbf{bo\\_yta}   &       4.7979  &        0.147     &    32.749  &         0.000        &        4.507    &        5.089     \\\\\n",
       "\\bottomrule\n",
       "\\end{tabular}\n",
       "\\begin{tabular}{lclc}\n",
       "\\textbf{Omnibus:}       &  2.363 & \\textbf{  Durbin-Watson:     } &    1.130  \\\\\n",
       "\\textbf{Prob(Omnibus):} &  0.307 & \\textbf{  Jarque-Bera (JB):  } &    2.092  \\\\\n",
       "\\textbf{Skew:}          & -0.247 & \\textbf{  Prob(JB):          } &    0.351  \\\\\n",
       "\\textbf{Kurtosis:}      &  2.492 & \\textbf{  Cond. No.          } &     551.  \\\\\n",
       "\\bottomrule\n",
       "\\end{tabular}\n",
       "%\\caption{OLS Regression Results}\n",
       "\\end{center}\n",
       "\n",
       "Notes: \\newline\n",
       " [1] Standard Errors assume that the covariance matrix of the errors is correctly specified."
      ],
      "text/plain": [
       "<class 'statsmodels.iolib.summary.Summary'>\n",
       "\"\"\"\n",
       "                            OLS Regression Results                            \n",
       "==============================================================================\n",
       "Dep. Variable:                   pris   R-squared:                       0.916\n",
       "Model:                            OLS   Adj. R-squared:                  0.915\n",
       "Method:                 Least Squares   F-statistic:                     1073.\n",
       "Date:                Thu, 21 Nov 2024   Prob (F-statistic):           1.39e-54\n",
       "Time:                        15:54:25   Log-Likelihood:                -540.73\n",
       "No. Observations:                 100   AIC:                             1085.\n",
       "Df Residuals:                      98   BIC:                             1091.\n",
       "Df Model:                           1                                         \n",
       "Covariance Type:            nonrobust                                         \n",
       "==============================================================================\n",
       "                 coef    std err          t      P>|t|      [0.025      0.975]\n",
       "------------------------------------------------------------------------------\n",
       "Intercept    119.0639     20.973      5.677      0.000      77.443     160.685\n",
       "bo_yta         4.7979      0.147     32.749      0.000       4.507       5.089\n",
       "==============================================================================\n",
       "Omnibus:                        2.363   Durbin-Watson:                   1.130\n",
       "Prob(Omnibus):                  0.307   Jarque-Bera (JB):                2.092\n",
       "Skew:                          -0.247   Prob(JB):                        0.351\n",
       "Kurtosis:                       2.492   Cond. No.                         551.\n",
       "==============================================================================\n",
       "\n",
       "Notes:\n",
       "[1] Standard Errors assume that the covariance matrix of the errors is correctly specified.\n",
       "\"\"\""
      ]
     },
     "execution_count": 19,
     "metadata": {},
     "output_type": "execute_result"
    }
   ],
   "source": [
    "#Enkel regression av pris\n",
    "res = smf.ols(formula='pris~bo_yta+balkong+ar',data=Utrecht)\n",
    "res.fit().summary() "
   ]
  },
  {
   "cell_type": "code",
   "execution_count": 20,
   "metadata": {},
   "outputs": [
    {
     "data": {
      "text/plain": [
       "<Axes: xlabel='bo_yta', ylabel='pris'>"
      ]
     },
     "execution_count": 20,
     "metadata": {},
     "output_type": "execute_result"
    },
    {
     "data": {
      "image/png": "[encoded data removed]",
      "text/plain": [
       "<Figure size 640x480 with 1 Axes>"
      ]
     },
     "metadata": {},
     "output_type": "display_data"
    }
   ],
   "source": [
    "sns.scatterplot(Utrecht,x='bo_yta',y='pris')"
   ]
  },
  {
   "cell_type": "markdown",
   "metadata": {},
   "source": []
  },
  {
   "cell_type": "markdown",
   "metadata": {},
   "source": []
  }
 ],
 "metadata": {
  "kernelspec": {
   "display_name": "Python 3",
   "language": "python",
   "name": "python3"
  },
  "language_info": {
   "codemirror_mode": {
    "name": "ipython",
    "version": 3
   },
   "file_extension": ".py",
   "mimetype": "text/x-python",
   "name": "python",
   "nbconvert_exporter": "python",
   "pygments_lexer": "ipython3",
   "version": "3.11.9"
  }
 },
 "nbformat": 4,
 "nbformat_minor": 2
}
